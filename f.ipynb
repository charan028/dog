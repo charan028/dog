{
 "cells": [
  {
   "cell_type": "code",
   "execution_count": 2,
   "id": "e01a6150-a8ba-4de7-8c24-9611b4e08700",
   "metadata": {},
   "outputs": [
    {
     "name": "stdout",
     "output_type": "stream",
     "text": [
      "Dummy dataset saved as dummy_dataset_with_missing_values.csv\n"
     ]
    }
   ],
   "source": [
    "import pandas as pd\n",
    "import numpy as np\n",
    "\n",
    "# Generate a dummy dataset with missing or empty values for specific columns\n",
    "np.random.seed(42)\n",
    "\n",
    "# Parameters for the dataset\n",
    "num_rows = 50  # Number of rows to simulate\n",
    "time_column = pd.date_range(start=\"2024-10-01 00:00:00\", periods=num_rows, freq=\"5T\")\n",
    "instantaneous_values = np.random.uniform(1300, 1350, size=num_rows)\n",
    "setpoint_values = np.random.choice([1350.0, None], size=num_rows, p=[0.8, 0.2])  # Add None for missing values\n",
    "percent_open_values = np.random.choice([28.31, None], size=num_rows, p=[0.85, 0.15])  # Add None for missing values\n",
    "\n",
    "# Create the DataFrame\n",
    "dummy_data = pd.DataFrame({\n",
    "    \"Time\": time_column,\n",
    "    \"Inj Gas Meter Volume Instantaneous\": instantaneous_values,\n",
    "    \"Inj Gas Meter Volume Setpoint\": setpoint_values,\n",
    "    \"Inj Gas Valve Percent Open\": percent_open_values,\n",
    "})\n",
    "\n",
    "# Save to a CSV file\n",
    "file_path = \"dummy_dataset_with_missing_values.csv\"\n",
    "dummy_data.to_csv(file_path, index=False)\n",
    "print(f\"Dummy dataset saved as {file_path}\")\n"
   ]
  },
  {
   "cell_type": "code",
   "execution_count": 3,
   "id": "5cd73d1d-1101-4661-a909-b5579251fa42",
   "metadata": {},
   "outputs": [
    {
     "ename": "OSError",
     "evalue": "No file or directory found at project/lstm_model.h5",
     "output_type": "error",
     "traceback": [
      "\u001b[0;31m---------------------------------------------------------------------------\u001b[0m",
      "\u001b[0;31mOSError\u001b[0m                                   Traceback (most recent call last)",
      "Cell \u001b[0;32mIn[3], line 8\u001b[0m\n\u001b[1;32m      6\u001b[0m \u001b[38;5;66;03m# Load the trained LSTM model\u001b[39;00m\n\u001b[1;32m      7\u001b[0m model_path \u001b[38;5;241m=\u001b[39m \u001b[38;5;124m\"\u001b[39m\u001b[38;5;124mproject/lstm_model.h5\u001b[39m\u001b[38;5;124m\"\u001b[39m  \u001b[38;5;66;03m# Replace with your saved model file path\u001b[39;00m\n\u001b[0;32m----> 8\u001b[0m lstm_model \u001b[38;5;241m=\u001b[39m \u001b[43mload_model\u001b[49m\u001b[43m(\u001b[49m\u001b[43mmodel_path\u001b[49m\u001b[43m)\u001b[49m\n\u001b[1;32m     10\u001b[0m \u001b[38;5;66;03m# Load the dummy dataset\u001b[39;00m\n\u001b[1;32m     11\u001b[0m dummy_file_path \u001b[38;5;241m=\u001b[39m \u001b[38;5;124m\"\u001b[39m\u001b[38;5;124mdummy_dataset_with_missing_values.csv\u001b[39m\u001b[38;5;124m\"\u001b[39m  \u001b[38;5;66;03m# Replace with your dummy dataset file path\u001b[39;00m\n",
      "File \u001b[0;32m~/.pyenv/versions/3.8.10/lib/python3.8/site-packages/keras/src/saving/saving_api.py:238\u001b[0m, in \u001b[0;36mload_model\u001b[0;34m(filepath, custom_objects, compile, safe_mode, **kwargs)\u001b[0m\n\u001b[1;32m    230\u001b[0m     \u001b[38;5;28;01mreturn\u001b[39;00m saving_lib\u001b[38;5;241m.\u001b[39mload_model(\n\u001b[1;32m    231\u001b[0m         filepath,\n\u001b[1;32m    232\u001b[0m         custom_objects\u001b[38;5;241m=\u001b[39mcustom_objects,\n\u001b[1;32m    233\u001b[0m         \u001b[38;5;28mcompile\u001b[39m\u001b[38;5;241m=\u001b[39m\u001b[38;5;28mcompile\u001b[39m,\n\u001b[1;32m    234\u001b[0m         safe_mode\u001b[38;5;241m=\u001b[39msafe_mode,\n\u001b[1;32m    235\u001b[0m     )\n\u001b[1;32m    237\u001b[0m \u001b[38;5;66;03m# Legacy case.\u001b[39;00m\n\u001b[0;32m--> 238\u001b[0m \u001b[38;5;28;01mreturn\u001b[39;00m \u001b[43mlegacy_sm_saving_lib\u001b[49m\u001b[38;5;241;43m.\u001b[39;49m\u001b[43mload_model\u001b[49m\u001b[43m(\u001b[49m\n\u001b[1;32m    239\u001b[0m \u001b[43m    \u001b[49m\u001b[43mfilepath\u001b[49m\u001b[43m,\u001b[49m\u001b[43m \u001b[49m\u001b[43mcustom_objects\u001b[49m\u001b[38;5;241;43m=\u001b[39;49m\u001b[43mcustom_objects\u001b[49m\u001b[43m,\u001b[49m\u001b[43m \u001b[49m\u001b[38;5;28;43mcompile\u001b[39;49m\u001b[38;5;241;43m=\u001b[39;49m\u001b[38;5;28;43mcompile\u001b[39;49m\u001b[43m,\u001b[49m\u001b[43m \u001b[49m\u001b[38;5;241;43m*\u001b[39;49m\u001b[38;5;241;43m*\u001b[39;49m\u001b[43mkwargs\u001b[49m\n\u001b[1;32m    240\u001b[0m \u001b[43m\u001b[49m\u001b[43m)\u001b[49m\n",
      "File \u001b[0;32m~/.pyenv/versions/3.8.10/lib/python3.8/site-packages/keras/src/utils/traceback_utils.py:70\u001b[0m, in \u001b[0;36mfilter_traceback.<locals>.error_handler\u001b[0;34m(*args, **kwargs)\u001b[0m\n\u001b[1;32m     67\u001b[0m     filtered_tb \u001b[38;5;241m=\u001b[39m _process_traceback_frames(e\u001b[38;5;241m.\u001b[39m__traceback__)\n\u001b[1;32m     68\u001b[0m     \u001b[38;5;66;03m# To get the full stack trace, call:\u001b[39;00m\n\u001b[1;32m     69\u001b[0m     \u001b[38;5;66;03m# `tf.debugging.disable_traceback_filtering()`\u001b[39;00m\n\u001b[0;32m---> 70\u001b[0m     \u001b[38;5;28;01mraise\u001b[39;00m e\u001b[38;5;241m.\u001b[39mwith_traceback(filtered_tb) \u001b[38;5;28;01mfrom\u001b[39;00m \u001b[38;5;28;01mNone\u001b[39;00m\n\u001b[1;32m     71\u001b[0m \u001b[38;5;28;01mfinally\u001b[39;00m:\n\u001b[1;32m     72\u001b[0m     \u001b[38;5;28;01mdel\u001b[39;00m filtered_tb\n",
      "File \u001b[0;32m~/.pyenv/versions/3.8.10/lib/python3.8/site-packages/keras/src/saving/legacy/save.py:234\u001b[0m, in \u001b[0;36mload_model\u001b[0;34m(filepath, custom_objects, compile, options)\u001b[0m\n\u001b[1;32m    232\u001b[0m \u001b[38;5;28;01mif\u001b[39;00m \u001b[38;5;28misinstance\u001b[39m(filepath_str, \u001b[38;5;28mstr\u001b[39m):\n\u001b[1;32m    233\u001b[0m     \u001b[38;5;28;01mif\u001b[39;00m \u001b[38;5;129;01mnot\u001b[39;00m tf\u001b[38;5;241m.\u001b[39mio\u001b[38;5;241m.\u001b[39mgfile\u001b[38;5;241m.\u001b[39mexists(filepath_str):\n\u001b[0;32m--> 234\u001b[0m         \u001b[38;5;28;01mraise\u001b[39;00m \u001b[38;5;167;01mIOError\u001b[39;00m(\n\u001b[1;32m    235\u001b[0m             \u001b[38;5;124mf\u001b[39m\u001b[38;5;124m\"\u001b[39m\u001b[38;5;124mNo file or directory found at \u001b[39m\u001b[38;5;132;01m{\u001b[39;00mfilepath_str\u001b[38;5;132;01m}\u001b[39;00m\u001b[38;5;124m\"\u001b[39m\n\u001b[1;32m    236\u001b[0m         )\n\u001b[1;32m    238\u001b[0m     \u001b[38;5;28;01mif\u001b[39;00m tf\u001b[38;5;241m.\u001b[39mio\u001b[38;5;241m.\u001b[39mgfile\u001b[38;5;241m.\u001b[39misdir(filepath_str):\n\u001b[1;32m    239\u001b[0m         \u001b[38;5;28;01mreturn\u001b[39;00m saved_model_load\u001b[38;5;241m.\u001b[39mload(\n\u001b[1;32m    240\u001b[0m             filepath_str, \u001b[38;5;28mcompile\u001b[39m, options\n\u001b[1;32m    241\u001b[0m         )\n",
      "\u001b[0;31mOSError\u001b[0m: No file or directory found at project/lstm_model.h5"
     ]
    }
   ],
   "source": [
    "import pandas as pd\n",
    "import numpy as np\n",
    "from tensorflow.keras.models import load_model\n",
    "from sklearn.preprocessing import StandardScaler\n",
    "\n",
    "# Load the trained LSTM model\n",
    "model_path = \"project/lstm_model.h5\"  # Replace with your saved model file path\n",
    "lstm_model = load_model(model_path)\n",
    "\n",
    "# Load the dummy dataset\n",
    "dummy_file_path = \"dummy_dataset_with_missing_values.csv\"  # Replace with your dummy dataset file path\n",
    "dummy_data = pd.read_csv(dummy_file_path)\n",
    "\n",
    "# Handle missing values in the dummy dataset\n",
    "def preprocess_dummy_data(df):\n",
    "    # Fill missing values\n",
    "    df['Inj Gas Meter Volume Setpoint'] = df['Inj Gas Meter Volume Setpoint'].fillna(method='ffill').fillna(method='bfill')\n",
    "    df['Inj Gas Valve Percent Open'] = df['Inj Gas Valve Percent Open'].fillna(method='ffill').fillna(method='bfill')\n",
    "\n",
    "    # Calculate derived features\n",
    "    df['Volume Deviation'] = df['Inj Gas Meter Volume Setpoint'] - df['Inj Gas Meter Volume Instantaneous']\n",
    "    epsilon = 1e-5  # Small value to prevent division by zero\n",
    "    df['Valve Efficiency'] = df['Inj Gas Meter Volume Instantaneous'] / (df['Inj Gas Valve Percent Open'] + epsilon)\n",
    "\n",
    "    # Drop rows with any remaining NaN values\n",
    "    df = df.dropna()\n",
    "    return df\n",
    "\n",
    "# Preprocess the dummy data\n",
    "processed_dummy_data = preprocess_dummy_data(dummy_data)\n",
    "\n",
    "# Prepare data for prediction\n",
    "X_dummy = processed_dummy_data[['Volume Deviation', 'Valve Efficiency']].values\n",
    "\n",
    "# Reshape for LSTM input\n",
    "timesteps = 1  # Match the timesteps used in training\n",
    "features = X_dummy.shape[1]\n",
    "X_dummy_lstm = X_dummy.reshape((X_dummy.shape[0], timesteps, features))\n",
    "\n",
    "# Make predictions\n",
    "dummy_predictions = lstm_model.predict(X_dummy_lstm)\n",
    "dummy_predictions = (dummy_predictions > 0.5).astype(int)  # Convert probabilities to binary predictions\n",
    "\n",
    "# Append predictions to the DataFrame\n",
    "processed_dummy_data['Predictions'] = dummy_predictions\n",
    "\n",
    "# Display results\n",
    "print(\"Processed Dummy Data with Predictions:\")\n",
    "print(processed_dummy_data)\n",
    "\n",
    "# Save results to a CSV file\n",
    "processed_dummy_data.to_csv(\"project/dummy_dataset_with_missing_values.csv\", index=False)\n",
    "print(\"Predictions saved to 'dummy_dataset_with_predictions.csv'\")\n"
   ]
  },
  {
   "cell_type": "code",
   "execution_count": null,
   "id": "6f127149-f09e-4b6f-a9c5-68bba10c270c",
   "metadata": {},
   "outputs": [],
   "source": []
  }
 ],
 "metadata": {
  "kernelspec": {
   "display_name": "Python 3",
   "language": "python",
   "name": "python3"
  },
  "language_info": {
   "codemirror_mode": {
    "name": "ipython",
    "version": 3
   },
   "file_extension": ".py",
   "mimetype": "text/x-python",
   "name": "python",
   "nbconvert_exporter": "python",
   "pygments_lexer": "ipython3",
   "version": "3.8.10"
  }
 },
 "nbformat": 4,
 "nbformat_minor": 5
}
